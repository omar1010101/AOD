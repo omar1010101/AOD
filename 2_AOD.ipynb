{
 "cells": [
  {
   "cell_type": "code",
   "execution_count": 2,
   "id": "875375a8-71bc-4c63-8ce5-c3802bca252e",
   "metadata": {},
   "outputs": [],
   "source": [
    "import numpy as np\n",
    "import pandas as pd"
   ]
  },
  {
   "cell_type": "code",
   "execution_count": 10,
   "id": "dadd3407-0b8f-473a-bb90-e2b9ba11fba0",
   "metadata": {},
   "outputs": [],
   "source": [
    "def calc_metric_stats(serie, metric):\n",
    "    pass"
   ]
  },
  {
   "cell_type": "code",
   "execution_count": 12,
   "id": "e84be4be-a673-4b4c-82c5-2ba84141dadd",
   "metadata": {},
   "outputs": [],
   "source": [
    "def Algorithm2(F, J, K, cut_factor, data_full):\n",
    "    list_idx_cut = list()\n",
    "    cut = np.round(cut_factor * K)\n",
    "    if(cut > 0):\n",
    "        D = F*J\n",
    "        lpoints = list()\n",
    "        for k in range(K):\n",
    "            point = np.zeros(D)\n",
    "            d = 1\n",
    "            for i in range(F):\n",
    "                for j in range(J):\n",
    "                    point[d] = data_full[k][i][j]\n",
    "                    d += 1\n",
    "            lpoints.append(point)\n",
    "            \n",
    "        maxpoint = np.full(D, -np.inf)\n",
    "        minpoint = np.full(D, np.inf)\n",
    "\n",
    "        for k in range(K):\n",
    "            for d in range(D):\n",
    "                maxpoint[d] = np.max(lpoints[k][d], maxpoint[d])\n",
    "                minpoint[d] = np.min(lpoints[k][d], minpoint[d])\n",
    "\n",
    "        lpoints_normalized = list()\n",
    "        for k in range(K):\n",
    "            point = np.zeros(D)\n",
    "            for d in range(D):\n",
    "                point[d] = (lpoints[k][d] - minpoint[d])/(maxpoint[d] - minpoint[d])\n",
    "            lpoints_normalized.append(point)\n",
    "\n",
    "        centroid = np.zeros(D)\n",
    "        for k in range(K):\n",
    "            for d in range(D):\n",
    "                centroid[d] += lpoints_normalized[k][d]/K\n",
    "\n",
    "        list_dist_centroid = list()\n",
    "        for k in range(K):\n",
    "            list_dist_centroid.append(np.linalg.norm(lpoints_normalized[k], centroid))\n",
    "\n",
    "        order = np.argsort(list_dist_centroid)\n",
    "        for c in range(cut):\n",
    "            list_idx_cut.append(len(oredr)-c)\n",
    "    return list_idx_cut"
   ]
  },
  {
   "cell_type": "code",
   "execution_count": 15,
   "id": "7780d5a9-e8f2-4d30-8b5a-e999e70a8775",
   "metadata": {},
   "outputs": [],
   "source": [
    "def create_dataframe(data_to_df, list_sensors, list_metrics):\n",
    "    pass"
   ]
  },
  {
   "cell_type": "code",
   "execution_count": 11,
   "id": "46c0f85f-a1c9-4ce8-af7a-5b87be72b594",
   "metadata": {},
   "outputs": [],
   "source": [
    "list_sensors = ['sensor1', 'sensor2']\n",
    "list_metrics = ['m1', 'm2', 'm3', 'm4', 'm5']\n",
    "df_train = pd.DataFrame()\n",
    "window_size = 100\n",
    "num_window = 57\n",
    "cut_factor = 0.1"
   ]
  },
  {
   "cell_type": "code",
   "execution_count": 8,
   "id": "9983f7e3-cc99-4dae-8171-742d39ac3c03",
   "metadata": {},
   "outputs": [],
   "source": [
    "F = len(list_sensors)\n",
    "J = len(list_metrics)\n",
    "K = num_window\n",
    "N = window_size\n",
    "data_full = np.zeros((K,F,J))"
   ]
  },
  {
   "cell_type": "code",
   "execution_count": null,
   "id": "a0aa0d34-b4fc-46d5-b744-356b865da344",
   "metadata": {},
   "outputs": [],
   "source": [
    "for k in range(K):\n",
    "    for i in range(F):\n",
    "        data_sensor = df_train[list_sensors[i]].values\n",
    "        serie = data_sensor[k*N:(k+1)*N]\n",
    "        for j in range(J):\n",
    "            data_full[k][i][j] = calc_metric_stats(serie, list_metrics[j])\n",
    "list_idx_cut = Algorithm2(F, J, K, cut_factor, data_full)\n",
    "data_range = list()\n",
    "for i in range(F):\n",
    "    lmtr_min = list()\n",
    "    lmtr_max = list()\n",
    "    for j in range(J):\n",
    "        list_metric_per_window = list()\n",
    "        for k in range(K):\n",
    "            if(k not in list_idx_cut):\n",
    "                list_metric_per_window.append(data_full[k][i][j])\n",
    "        lmtr_min.append(np.min(list_metric_per_window))\n",
    "        lmtr_max.append(np.max(list_metric_per_window))\n",
    "    data_range.append((lmtr_min, lmtr_max))"
   ]
  },
  {
   "cell_type": "code",
   "execution_count": null,
   "id": "92364896-b3bf-4ada-8d67-17eb7d738706",
   "metadata": {},
   "outputs": [],
   "source": [
    "data_to_df = list()\n",
    "for j in range(J):\n",
    "    list_min_values_per_sensor = list()\n",
    "    for i in range(F):\n",
    "        list_min_values_per_sensor.append(data_range[i][0][j])\n",
    "    data_to_df.append(list_min_values_per_sensor)\n",
    "    list_max_values_per_sensor = list()\n",
    "    for i in range(F):\n",
    "        list_max_values_per_sensor.append(data_range[i][1][j])\n",
    "    data_to_df.append(list_max_values_per_sensor)\n",
    "df_model = create_dataframe(data_to_df, list_sensors, list_metrics)"
   ]
  }
 ],
 "metadata": {
  "kernelspec": {
   "display_name": "Python 3 (ipykernel)",
   "language": "python",
   "name": "python3"
  },
  "language_info": {
   "codemirror_mode": {
    "name": "ipython",
    "version": 3
   },
   "file_extension": ".py",
   "mimetype": "text/x-python",
   "name": "python",
   "nbconvert_exporter": "python",
   "pygments_lexer": "ipython3",
   "version": "3.11.8"
  }
 },
 "nbformat": 4,
 "nbformat_minor": 5
}
