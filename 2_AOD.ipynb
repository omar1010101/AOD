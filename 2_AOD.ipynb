{
 "cells": [
  {
   "cell_type": "code",
   "execution_count": 21,
   "id": "875375a8-71bc-4c63-8ce5-c3802bca252e",
   "metadata": {},
   "outputs": [],
   "source": [
    "import numpy as np\n",
    "import pandas as pd\n",
    "import matplotlib.pyplot as plt\n",
    "import seaborn as sns"
   ]
  },
  {
   "cell_type": "code",
   "execution_count": 22,
   "id": "7aea4688-6f74-4f2a-a773-57d6a393cc2b",
   "metadata": {},
   "outputs": [],
   "source": [
    "sns.set(style=\"whitegrid\")"
   ]
  },
  {
   "cell_type": "code",
   "execution_count": 23,
   "id": "cacede6c-7d39-4bb4-bfe4-cedaa4c86ce0",
   "metadata": {},
   "outputs": [],
   "source": [
    "df = pd.read_csv('Data/test_st.csv')"
   ]
  },
  {
   "cell_type": "code",
   "execution_count": 24,
   "id": "7330c1c9-646f-4e7c-aa24-588c741e12b6",
   "metadata": {},
   "outputs": [],
   "source": [
    "df['value_created_at'] = pd.to_datetime(df['value_created_at'])"
   ]
  },
  {
   "cell_type": "code",
   "execution_count": 25,
   "id": "5e173e9d-e454-46af-9e16-f04643e30d05",
   "metadata": {},
   "outputs": [],
   "source": [
    "df_train = df[:2500]\n",
    "df_test = df[2500:]"
   ]
  },
  {
   "cell_type": "code",
   "execution_count": 28,
   "id": "50e8830e-8926-455a-8c61-444ae0266224",
   "metadata": {},
   "outputs": [],
   "source": [
    "df_train = df_train[df_train.NGA > .2]"
   ]
  },
  {
   "cell_type": "code",
   "execution_count": 29,
   "id": "355bacfb-a053-4a0a-b630-83b6487a9cbc",
   "metadata": {},
   "outputs": [],
   "source": [
    "list_sensors = ['NGA']\n",
    "list_metrics = ['Median', 'STD', 'PPV','rms','ppv','cf','mf','sf','if']\n",
    "window_size = 100\n",
    "num_window = int(len(df_train)//window_size)\n",
    "cut_factor = .2"
   ]
  },
  {
   "cell_type": "code",
   "execution_count": 30,
   "id": "dadd3407-0b8f-473a-bb90-e2b9ba11fba0",
   "metadata": {},
   "outputs": [],
   "source": [
    "def calc_metric_stats(serie, metric):\n",
    "    if metric == 'STD':\n",
    "        return np.std(serie)\n",
    "    elif metric == 'PPV':\n",
    "        return np.max(serie) - np.min(serie)\n",
    "    elif metric == 'Median':\n",
    "        return np.median(serie)\n",
    "    elif metric == 'z_score' :\n",
    "        mean_value = serie.mean()\n",
    "        std_value = serie.std()\n",
    "        return (serie - mean_value) / std_value\n",
    "    elif metric == 'rms':\n",
    "        return np.sqrt(np.mean(np.square(serie)))\n",
    "    elif metric == 'ppv':\n",
    "        ppv = np.max(serie) - np.min(serie)\n",
    "        return ppv\n",
    "    elif metric == 'cf':\n",
    "        max_value = np.max(np.abs(serie))\n",
    "        sum_values = np.sum(np.square(serie))\n",
    "        return max_value / np.sqrt(sum_values)\n",
    "    elif metric == 'mf':\n",
    "        mu = np.mean(serie)\n",
    "        max_value = np.max(serie)\n",
    "        min_value = np.min(serie)\n",
    "        return (max_value - min_value) / mu\n",
    "    elif metric == 'sf':\n",
    "        mu = np.mean(serie)\n",
    "        sigma = np.std(serie)\n",
    "        return sigma / mu\n",
    "    elif metric == 'if':\n",
    "        max_value = np.max(np.abs(serie))\n",
    "        sum_values = np.sum(np.abs(serie))\n",
    "        return max_value / sum_values\n"
   ]
  },
  {
   "cell_type": "code",
   "execution_count": 31,
   "id": "e84be4be-a673-4b4c-82c5-2ba84141dadd",
   "metadata": {},
   "outputs": [],
   "source": [
    "def Algorithm2(F, J, K, cut_factor, data_full):\n",
    "    list_idx_cut = list()\n",
    "    cut = int(np.round(cut_factor * K))\n",
    "    if(cut > 0):\n",
    "        D = F*J\n",
    "        lpoints = list()\n",
    "        for k in range(K):\n",
    "            point = np.zeros(D)\n",
    "            d = 0\n",
    "            for i in range(F):\n",
    "                for j in range(J):\n",
    "                    point[d] = data_full[k][i][j]\n",
    "                    d += 1\n",
    "            lpoints.append(point)\n",
    "            \n",
    "        maxpoint = np.full(D, -np.inf)\n",
    "        minpoint = np.full(D, np.inf)\n",
    "\n",
    "        for k in range(K):\n",
    "            for d in range(D):\n",
    "                maxpoint[d] = max(lpoints[k][d], maxpoint[d])\n",
    "                minpoint[d] = min(lpoints[k][d], minpoint[d])\n",
    "\n",
    "        lpoints_normalized = list()\n",
    "        for k in range(K):\n",
    "            point = np.zeros(D)\n",
    "            for d in range(D):\n",
    "                point[d] = (lpoints[k][d] - minpoint[d])/(maxpoint[d] - minpoint[d])\n",
    "            lpoints_normalized.append(point)\n",
    "\n",
    "        centroid = np.zeros(D)\n",
    "        for k in range(K):\n",
    "            for d in range(D):\n",
    "                centroid[d] += lpoints_normalized[k][d]/K\n",
    "\n",
    "        list_dist_centroid = list()\n",
    "        for k in range(K):\n",
    "            list_dist_centroid.append(np.linalg.norm(lpoints_normalized[k]-centroid))\n",
    "\n",
    "        order = np.argsort(list_dist_centroid)\n",
    "        for c in range(cut):\n",
    "            list_idx_cut.append(order[len(order)-c-1])\n",
    "    return list_idx_cut"
   ]
  },
  {
   "cell_type": "code",
   "execution_count": 32,
   "id": "7780d5a9-e8f2-4d30-8b5a-e999e70a8775",
   "metadata": {},
   "outputs": [],
   "source": [
    "def create_dataframe(data_range, list_sensors, list_metrics):\n",
    "    temp = {\"min\" : {} , \"max\" : {}}\n",
    "    for idx_sensor in range(len(list_sensors)) :\n",
    "        for metric in list_metrics : \n",
    "            temp[\"min\"][(list_sensors[idx_sensor], metric)] = data_range[idx_sensor][0][list_metrics.index(metric)]\n",
    "            temp[\"max\"][(list_sensors[idx_sensor], metric)] = data_range[idx_sensor][1][list_metrics.index(metric)]\n",
    "    # print(temp)\n",
    "    return pd.DataFrame(temp)"
   ]
  },
  {
   "cell_type": "code",
   "execution_count": 33,
   "id": "9983f7e3-cc99-4dae-8171-742d39ac3c03",
   "metadata": {},
   "outputs": [],
   "source": [
    "F = len(list_sensors)\n",
    "J = len(list_metrics)\n",
    "K = num_window\n",
    "N = window_size\n",
    "data_full = np.zeros((K,F,J))"
   ]
  },
  {
   "cell_type": "code",
   "execution_count": 34,
   "id": "0f63ef71-1e99-4900-bf35-dede3241f77e",
   "metadata": {},
   "outputs": [],
   "source": [
    "for k in range(K):\n",
    "    for i in range(F):\n",
    "        data_sensor = df_train[list_sensors[i]].values\n",
    "        serie = data_sensor[k*N:(k+1)*N]\n",
    "        for j in range(J):\n",
    "            # print(list_metrics[j])\n",
    "            data_full[k][i][j] = calc_metric_stats(serie, list_metrics[j])\n",
    "            #print(data_full)"
   ]
  },
  {
   "cell_type": "code",
   "execution_count": 35,
   "id": "5253799f-27c4-437d-850c-d3ff0d129404",
   "metadata": {},
   "outputs": [
    {
     "data": {
      "text/plain": [
       "(24, 1, 9)"
      ]
     },
     "execution_count": 35,
     "metadata": {},
     "output_type": "execute_result"
    }
   ],
   "source": [
    "data_full.shape"
   ]
  },
  {
   "cell_type": "code",
   "execution_count": 36,
   "id": "5bc25f4a-c129-4cb6-824d-a77c54bea0e2",
   "metadata": {},
   "outputs": [],
   "source": [
    "list_idx_cut = Algorithm2(F, J, K, cut_factor, data_full)"
   ]
  },
  {
   "cell_type": "code",
   "execution_count": 37,
   "id": "ca90c6f9-2882-470a-b522-37bf130bd83f",
   "metadata": {},
   "outputs": [
    {
     "data": {
      "text/plain": [
       "[22, 21, 3, 12, 23]"
      ]
     },
     "execution_count": 37,
     "metadata": {},
     "output_type": "execute_result"
    }
   ],
   "source": [
    "list_idx_cut"
   ]
  },
  {
   "cell_type": "code",
   "execution_count": 38,
   "id": "c5e5698b-05a7-4f22-b8ce-05f17da5aa7a",
   "metadata": {},
   "outputs": [
    {
     "data": {
      "image/png": "[encoded data removed]",
      "text/plain": [
       "<Figure size 2000x500 with 1 Axes>"
      ]
     },
     "metadata": {},
     "output_type": "display_data"
    }
   ],
   "source": [
    "data_length = len(df_train.NGA.values)\n",
    "fig, ax = plt.subplots(figsize=(20, 5))\n",
    "plt.plot(df.NGA.values)\n",
    "for idx in list_idx_cut:\n",
    "    start = idx * 100\n",
    "    end = (idx + 1) * 100\n",
    "    if start < data_length:\n",
    "        end = min(end, data_length)  \n",
    "        ax.axvspan(start, end, color='red', alpha=0.3)"
   ]
  },
  {
   "cell_type": "code",
   "execution_count": 39,
   "id": "4e73123a-f8e0-4f0b-a79c-d6b32659d320",
   "metadata": {},
   "outputs": [],
   "source": [
    "data_range = list()\n",
    "for i in range(F):\n",
    "    lmtr_min = list()\n",
    "    lmtr_max = list()\n",
    "    for j in range(J):\n",
    "        list_metric_per_window = list()\n",
    "        for k in range(K):\n",
    "            if(k not in list_idx_cut):\n",
    "                list_metric_per_window.append(data_full[k][i][j])\n",
    "        lmtr_min.append(np.min(list_metric_per_window))\n",
    "        lmtr_max.append(np.max(list_metric_per_window))\n",
    "    data_range.append((lmtr_min, lmtr_max))"
   ]
  },
  {
   "cell_type": "code",
   "execution_count": 40,
   "id": "92364896-b3bf-4ada-8d67-17eb7d738706",
   "metadata": {},
   "outputs": [
    {
     "data": {
      "text/html": [
       "<div>\n",
       "<style scoped>\n",
       "    .dataframe tbody tr th:only-of-type {\n",
       "        vertical-align: middle;\n",
       "    }\n",
       "\n",
       "    .dataframe tbody tr th {\n",
       "        vertical-align: top;\n",
       "    }\n",
       "\n",
       "    .dataframe thead th {\n",
       "        text-align: right;\n",
       "    }\n",
       "</style>\n",
       "<table border=\"1\" class=\"dataframe\">\n",
       "  <thead>\n",
       "    <tr style=\"text-align: right;\">\n",
       "      <th></th>\n",
       "      <th></th>\n",
       "      <th>min</th>\n",
       "      <th>max</th>\n",
       "    </tr>\n",
       "  </thead>\n",
       "  <tbody>\n",
       "    <tr>\n",
       "      <th rowspan=\"9\" valign=\"top\">NGA</th>\n",
       "      <th>Median</th>\n",
       "      <td>0.480700</td>\n",
       "      <td>1.685870</td>\n",
       "    </tr>\n",
       "    <tr>\n",
       "      <th>STD</th>\n",
       "      <td>0.016545</td>\n",
       "      <td>0.091695</td>\n",
       "    </tr>\n",
       "    <tr>\n",
       "      <th>PPV</th>\n",
       "      <td>0.070010</td>\n",
       "      <td>0.313610</td>\n",
       "    </tr>\n",
       "    <tr>\n",
       "      <th>rms</th>\n",
       "      <td>0.480336</td>\n",
       "      <td>1.690351</td>\n",
       "    </tr>\n",
       "    <tr>\n",
       "      <th>ppv</th>\n",
       "      <td>0.070010</td>\n",
       "      <td>0.313610</td>\n",
       "    </tr>\n",
       "    <tr>\n",
       "      <th>cf</th>\n",
       "      <td>0.105342</td>\n",
       "      <td>0.116606</td>\n",
       "    </tr>\n",
       "    <tr>\n",
       "      <th>mf</th>\n",
       "      <td>0.102259</td>\n",
       "      <td>0.257417</td>\n",
       "    </tr>\n",
       "    <tr>\n",
       "      <th>sf</th>\n",
       "      <td>0.018082</td>\n",
       "      <td>0.062527</td>\n",
       "    </tr>\n",
       "    <tr>\n",
       "      <th>if</th>\n",
       "      <td>0.010537</td>\n",
       "      <td>0.011671</td>\n",
       "    </tr>\n",
       "  </tbody>\n",
       "</table>\n",
       "</div>"
      ],
      "text/plain": [
       "                 min       max\n",
       "NGA Median  0.480700  1.685870\n",
       "    STD     0.016545  0.091695\n",
       "    PPV     0.070010  0.313610\n",
       "    rms     0.480336  1.690351\n",
       "    ppv     0.070010  0.313610\n",
       "    cf      0.105342  0.116606\n",
       "    mf      0.102259  0.257417\n",
       "    sf      0.018082  0.062527\n",
       "    if      0.010537  0.011671"
      ]
     },
     "execution_count": 40,
     "metadata": {},
     "output_type": "execute_result"
    }
   ],
   "source": [
    "# data_to_df = list()\n",
    "# for j in range(J):\n",
    "    \n",
    "#     list_min_values_per_sensor = list()\n",
    "#     for i in range(F):\n",
    "#         list_min_values_per_sensor.append(data_range[i][0][j])\n",
    "#     data_to_df.append(list_min_values_per_sensor)\n",
    "    \n",
    "#     list_max_values_per_sensor = list()\n",
    "#     for i in range(F):\n",
    "#         list_max_values_per_sensor.append(data_range[i][1][j])\n",
    "#     data_to_df.append(list_max_values_per_sensor)\n",
    "\n",
    "# data_to_df\n",
    "df_model = create_dataframe(data_range, list_sensors, list_metrics)\n",
    "df_model"
   ]
  },
  {
   "cell_type": "code",
   "execution_count": 41,
   "id": "5851896f-e2b5-475e-9f51-5f1135ce1ea0",
   "metadata": {},
   "outputs": [],
   "source": [
    "def test(list_sensors, list_metrics, current_window, df_model):\n",
    "    F = len(list_sensors)\n",
    "    J = len(list_metrics)\n",
    "    # report = dict()\n",
    "    # sum_error_rel = 0\n",
    "    for name_sensor in list_sensors:\n",
    "        # list_sensors_affecteds = list()\n",
    "        serie = current_window[name_sensor].values\n",
    "        for j in range(J):\n",
    "            metric = calc_metric_stats(serie, list_metrics[j])\n",
    "            v_min =  df_model.loc[name_sensor].loc[list_metrics[j]]['min']\n",
    "            v_max =  df_model.loc[name_sensor].loc[list_metrics[j]]['max']\n",
    "            if metric < v_min or metric > v_max:\n",
    "                color = \"red\"\n",
    "                # error_rel_normalized = np.abs((metric-v_min)/(v_max-v_min))\n",
    "                # sum_error_rel += error_rel_normalized\n",
    "                #list_sensors_affecteds.append()\n",
    "                # report['count_metrics'] = \n",
    "            else : \n",
    "                color = \"green\"\n",
    "    return color\n",
    "    \n",
    "                # error_rel_normalized = np.abs((metric-v_min)/(v_max-v_min)-1)\n",
    "                # sum_error_rel += error_rel_normalized\n",
    "                #list_sensors_affecteds.append()\n",
    "    # if report.c"
   ]
  },
  {
   "cell_type": "code",
   "execution_count": 47,
   "id": "9699e8d5-5405-40bc-a11f-7e20817e73a8",
   "metadata": {},
   "outputs": [],
   "source": [
    "current_window = df[2900:3000]\n",
    "color = test(list_sensors, list_metrics, current_window, df_model)"
   ]
  },
  {
   "cell_type": "code",
   "execution_count": 48,
   "id": "20002735-4a28-4619-92d6-149afc84fa1d",
   "metadata": {},
   "outputs": [
    {
     "data": {
      "text/plain": [
       "'red'"
      ]
     },
     "execution_count": 48,
     "metadata": {},
     "output_type": "execute_result"
    }
   ],
   "source": [
    "color"
   ]
  },
  {
   "cell_type": "code",
   "execution_count": 49,
   "id": "cc45001f-69cf-475d-b5f8-9b5aa16613da",
   "metadata": {},
   "outputs": [
    {
     "data": {
      "text/plain": [
       "array([0.10832, 0.10783, 0.10815, ..., 0.5554 , 0.50074, 0.5081 ])"
      ]
     },
     "execution_count": 49,
     "metadata": {},
     "output_type": "execute_result"
    }
   ],
   "source": [
    "df.NGA.values"
   ]
  },
  {
   "cell_type": "code",
   "execution_count": 50,
   "id": "491c3ca4-4c5c-4b2b-8ae8-99c569841a79",
   "metadata": {},
   "outputs": [
    {
     "ename": "AttributeError",
     "evalue": "'numpy.ndarray' object has no attribute 'index'",
     "output_type": "error",
     "traceback": [
      "\u001b[1;31m---------------------------------------------------------------------------\u001b[0m",
      "\u001b[1;31mAttributeError\u001b[0m                            Traceback (most recent call last)",
      "Cell \u001b[1;32mIn[50], line 2\u001b[0m\n\u001b[0;32m      1\u001b[0m \u001b[38;5;28;01mfor\u001b[39;00m value \u001b[38;5;129;01min\u001b[39;00m df\u001b[38;5;241m.\u001b[39mNGA\u001b[38;5;241m.\u001b[39mvalues : \n\u001b[1;32m----> 2\u001b[0m     \u001b[38;5;28;01mif\u001b[39;00m df\u001b[38;5;241m.\u001b[39mNGA\u001b[38;5;241m.\u001b[39mvalues\u001b[38;5;241m.\u001b[39mindex(value) \u001b[38;5;241m>\u001b[39m \u001b[38;5;241m2900\u001b[39m \u001b[38;5;129;01mor\u001b[39;00m df\u001b[38;5;241m.\u001b[39mNGA\u001b[38;5;241m.\u001b[39mvalues\u001b[38;5;241m.\u001b[39mindex(value) \u001b[38;5;241m<\u001b[39m \u001b[38;5;241m3000\u001b[39m :\n\u001b[0;32m      3\u001b[0m         plt\u001b[38;5;241m.\u001b[39mscatter(value,color\u001b[38;5;241m=\u001b[39mcolor)\n\u001b[0;32m      4\u001b[0m     plt\u001b[38;5;241m.\u001b[39mscatter(value)\n",
      "\u001b[1;31mAttributeError\u001b[0m: 'numpy.ndarray' object has no attribute 'index'"
     ]
    }
   ],
   "source": [
    "for value in df.NGA.values : \n",
    "    if df.NGA.values.index(value) > 2900 or df.NGA.values.index(value) < 3000 :\n",
    "        plt.scatter(value,color=color)\n",
    "    plt.scatter(value)"
   ]
  },
  {
   "cell_type": "code",
   "execution_count": 51,
   "id": "7a9f471d-4185-47b8-ba33-e4706d8ab2e9",
   "metadata": {},
   "outputs": [
    {
     "ename": "AttributeError",
     "evalue": "'numpy.ndarray' object has no attribute 'index'",
     "output_type": "error",
     "traceback": [
      "\u001b[1;31m---------------------------------------------------------------------------\u001b[0m",
      "\u001b[1;31mAttributeError\u001b[0m                            Traceback (most recent call last)",
      "Cell \u001b[1;32mIn[51], line 1\u001b[0m\n\u001b[1;32m----> 1\u001b[0m df\u001b[38;5;241m.\u001b[39mNGA\u001b[38;5;241m.\u001b[39mvalues\u001b[38;5;241m.\u001b[39mindex(\u001b[38;5;241m222\u001b[39m)\n",
      "\u001b[1;31mAttributeError\u001b[0m: 'numpy.ndarray' object has no attribute 'index'"
     ]
    }
   ],
   "source": [
    "df.NGA.values.index(222)"
   ]
  },
  {
   "cell_type": "code",
   "execution_count": null,
   "id": "7538f0f4-4763-43bb-bb77-cb0c811e5492",
   "metadata": {},
   "outputs": [],
   "source": []
  }
 ],
 "metadata": {
  "kernelspec": {
   "display_name": "Python 3 (ipykernel)",
   "language": "python",
   "name": "python3"
  },
  "language_info": {
   "codemirror_mode": {
    "name": "ipython",
    "version": 3
   },
   "file_extension": ".py",
   "mimetype": "text/x-python",
   "name": "python",
   "nbconvert_exporter": "python",
   "pygments_lexer": "ipython3",
   "version": "3.11.7"
  }
 },
 "nbformat": 4,
 "nbformat_minor": 5
}
