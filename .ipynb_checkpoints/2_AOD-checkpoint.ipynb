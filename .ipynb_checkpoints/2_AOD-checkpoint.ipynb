{
 "cells": [
  {
   "cell_type": "code",
   "execution_count": 1,
   "id": "875375a8-71bc-4c63-8ce5-c3802bca252e",
   "metadata": {},
   "outputs": [],
   "source": [
    "import numpy as np\n",
    "import pandas as pd\n",
    "import matplotlib.pyplot as plt"
   ]
  },
  {
   "cell_type": "code",
   "execution_count": 2,
   "id": "cacede6c-7d39-4bb4-bfe4-cedaa4c86ce0",
   "metadata": {},
   "outputs": [],
   "source": [
    "df_train = pd.read_csv('../omar/Data/test_st.csv')"
   ]
  },
  {
   "cell_type": "code",
   "execution_count": 3,
   "id": "7330c1c9-646f-4e7c-aa24-588c741e12b6",
   "metadata": {},
   "outputs": [],
   "source": [
    "df_train['value_created_at'] = pd.to_datetime(df_train['value_created_at'])"
   ]
  },
  {
   "cell_type": "code",
   "execution_count": 4,
   "id": "c89856d8-b3c8-42d3-9832-93aad7697a3e",
   "metadata": {},
   "outputs": [
    {
     "data": {
      "text/html": [
       "<div>\n",
       "<style scoped>\n",
       "    .dataframe tbody tr th:only-of-type {\n",
       "        vertical-align: middle;\n",
       "    }\n",
       "\n",
       "    .dataframe tbody tr th {\n",
       "        vertical-align: top;\n",
       "    }\n",
       "\n",
       "    .dataframe thead th {\n",
       "        text-align: right;\n",
       "    }\n",
       "</style>\n",
       "<table border=\"1\" class=\"dataframe\">\n",
       "  <thead>\n",
       "    <tr style=\"text-align: right;\">\n",
       "      <th></th>\n",
       "      <th>value_created_at</th>\n",
       "      <th>measure_id</th>\n",
       "      <th>point_id</th>\n",
       "      <th>NGA</th>\n",
       "      <th>NGV</th>\n",
       "      <th>K</th>\n",
       "      <th>VCC_g</th>\n",
       "      <th>VC_g</th>\n",
       "    </tr>\n",
       "  </thead>\n",
       "  <tbody>\n",
       "    <tr>\n",
       "      <th>0</th>\n",
       "      <td>2023-06-24 15:05:48</td>\n",
       "      <td>12870679</td>\n",
       "      <td>232710</td>\n",
       "      <td>0.10832</td>\n",
       "      <td>2.77359</td>\n",
       "      <td>1.891347</td>\n",
       "      <td>0.49635</td>\n",
       "      <td>0.41004</td>\n",
       "    </tr>\n",
       "    <tr>\n",
       "      <th>1</th>\n",
       "      <td>2023-06-24 15:22:51</td>\n",
       "      <td>12870678</td>\n",
       "      <td>232710</td>\n",
       "      <td>0.10783</td>\n",
       "      <td>3.13995</td>\n",
       "      <td>1.896530</td>\n",
       "      <td>0.48180</td>\n",
       "      <td>0.42522</td>\n",
       "    </tr>\n",
       "    <tr>\n",
       "      <th>2</th>\n",
       "      <td>2023-06-24 15:50:00</td>\n",
       "      <td>12870677</td>\n",
       "      <td>232710</td>\n",
       "      <td>0.10815</td>\n",
       "      <td>2.66659</td>\n",
       "      <td>1.887733</td>\n",
       "      <td>0.48101</td>\n",
       "      <td>0.40710</td>\n",
       "    </tr>\n",
       "    <tr>\n",
       "      <th>3</th>\n",
       "      <td>2023-06-24 15:55:00</td>\n",
       "      <td>12870676</td>\n",
       "      <td>232710</td>\n",
       "      <td>0.10708</td>\n",
       "      <td>2.65100</td>\n",
       "      <td>1.901864</td>\n",
       "      <td>0.48632</td>\n",
       "      <td>0.40771</td>\n",
       "    </tr>\n",
       "    <tr>\n",
       "      <th>4</th>\n",
       "      <td>2023-06-24 16:00:00</td>\n",
       "      <td>12870675</td>\n",
       "      <td>232710</td>\n",
       "      <td>0.10750</td>\n",
       "      <td>2.55173</td>\n",
       "      <td>1.898690</td>\n",
       "      <td>0.49191</td>\n",
       "      <td>0.42289</td>\n",
       "    </tr>\n",
       "    <tr>\n",
       "      <th>...</th>\n",
       "      <td>...</td>\n",
       "      <td>...</td>\n",
       "      <td>...</td>\n",
       "      <td>...</td>\n",
       "      <td>...</td>\n",
       "      <td>...</td>\n",
       "      <td>...</td>\n",
       "      <td>...</td>\n",
       "    </tr>\n",
       "    <tr>\n",
       "      <th>5699</th>\n",
       "      <td>2024-03-01 06:40:00</td>\n",
       "      <td>21130040</td>\n",
       "      <td>232710</td>\n",
       "      <td>0.54927</td>\n",
       "      <td>4.42352</td>\n",
       "      <td>4.068230</td>\n",
       "      <td>9.18245</td>\n",
       "      <td>4.87565</td>\n",
       "    </tr>\n",
       "    <tr>\n",
       "      <th>5700</th>\n",
       "      <td>2024-03-01 07:40:00</td>\n",
       "      <td>21132241</td>\n",
       "      <td>232710</td>\n",
       "      <td>0.52915</td>\n",
       "      <td>4.16160</td>\n",
       "      <td>4.259252</td>\n",
       "      <td>8.98788</td>\n",
       "      <td>5.14323</td>\n",
       "    </tr>\n",
       "    <tr>\n",
       "      <th>5701</th>\n",
       "      <td>2024-03-01 08:40:00</td>\n",
       "      <td>21134403</td>\n",
       "      <td>232710</td>\n",
       "      <td>0.55540</td>\n",
       "      <td>4.46625</td>\n",
       "      <td>4.059374</td>\n",
       "      <td>8.60813</td>\n",
       "      <td>4.33526</td>\n",
       "    </tr>\n",
       "    <tr>\n",
       "      <th>5702</th>\n",
       "      <td>2024-03-01 09:40:00</td>\n",
       "      <td>21136658</td>\n",
       "      <td>232710</td>\n",
       "      <td>0.50074</td>\n",
       "      <td>4.34932</td>\n",
       "      <td>4.110944</td>\n",
       "      <td>7.49714</td>\n",
       "      <td>3.75781</td>\n",
       "    </tr>\n",
       "    <tr>\n",
       "      <th>5703</th>\n",
       "      <td>2024-03-01 10:40:00</td>\n",
       "      <td>21138147</td>\n",
       "      <td>232710</td>\n",
       "      <td>0.50810</td>\n",
       "      <td>4.34101</td>\n",
       "      <td>5.684870</td>\n",
       "      <td>10.26147</td>\n",
       "      <td>5.13945</td>\n",
       "    </tr>\n",
       "  </tbody>\n",
       "</table>\n",
       "<p>5704 rows × 8 columns</p>\n",
       "</div>"
      ],
      "text/plain": [
       "        value_created_at  measure_id  point_id      NGA      NGV         K  \\\n",
       "0    2023-06-24 15:05:48    12870679    232710  0.10832  2.77359  1.891347   \n",
       "1    2023-06-24 15:22:51    12870678    232710  0.10783  3.13995  1.896530   \n",
       "2    2023-06-24 15:50:00    12870677    232710  0.10815  2.66659  1.887733   \n",
       "3    2023-06-24 15:55:00    12870676    232710  0.10708  2.65100  1.901864   \n",
       "4    2023-06-24 16:00:00    12870675    232710  0.10750  2.55173  1.898690   \n",
       "...                  ...         ...       ...      ...      ...       ...   \n",
       "5699 2024-03-01 06:40:00    21130040    232710  0.54927  4.42352  4.068230   \n",
       "5700 2024-03-01 07:40:00    21132241    232710  0.52915  4.16160  4.259252   \n",
       "5701 2024-03-01 08:40:00    21134403    232710  0.55540  4.46625  4.059374   \n",
       "5702 2024-03-01 09:40:00    21136658    232710  0.50074  4.34932  4.110944   \n",
       "5703 2024-03-01 10:40:00    21138147    232710  0.50810  4.34101  5.684870   \n",
       "\n",
       "         VCC_g     VC_g  \n",
       "0      0.49635  0.41004  \n",
       "1      0.48180  0.42522  \n",
       "2      0.48101  0.40710  \n",
       "3      0.48632  0.40771  \n",
       "4      0.49191  0.42289  \n",
       "...        ...      ...  \n",
       "5699   9.18245  4.87565  \n",
       "5700   8.98788  5.14323  \n",
       "5701   8.60813  4.33526  \n",
       "5702   7.49714  3.75781  \n",
       "5703  10.26147  5.13945  \n",
       "\n",
       "[5704 rows x 8 columns]"
      ]
     },
     "execution_count": 4,
     "metadata": {},
     "output_type": "execute_result"
    }
   ],
   "source": [
    "df_train"
   ]
  },
  {
   "cell_type": "code",
   "execution_count": 5,
   "id": "dadd3407-0b8f-473a-bb90-e2b9ba11fba0",
   "metadata": {},
   "outputs": [],
   "source": [
    "def calc_metric_stats(serie, metric):\n",
    "    if metric == 'STD':\n",
    "        return np.std(serie)\n",
    "    elif metric == 'PPV':\n",
    "        return np.max(serie) - np.min(serie)\n",
    "    elif metric == 'Median':\n",
    "        return np.median(serie)"
   ]
  },
  {
   "cell_type": "code",
   "execution_count": 6,
   "id": "e84be4be-a673-4b4c-82c5-2ba84141dadd",
   "metadata": {},
   "outputs": [],
   "source": [
    "def Algorithm2(F, J, K, cut_factor, data_full):\n",
    "    list_idx_cut = list()\n",
    "    cut = int(np.round(cut_factor * K))\n",
    "    if(cut > 0):\n",
    "        D = F*J\n",
    "        lpoints = list()\n",
    "        for k in range(K):\n",
    "            point = np.zeros(D)\n",
    "            d = 0\n",
    "            for i in range(F):\n",
    "                for j in range(J):\n",
    "                    point[d] = data_full[k][i][j]\n",
    "                    d += 1\n",
    "            lpoints.append(point)\n",
    "            \n",
    "        maxpoint = np.full(D, -np.inf)\n",
    "        minpoint = np.full(D, np.inf)\n",
    "\n",
    "        for k in range(K):\n",
    "            for d in range(D):\n",
    "                maxpoint[d] = max(lpoints[k][d], maxpoint[d])\n",
    "                minpoint[d] = min(lpoints[k][d], minpoint[d])\n",
    "\n",
    "        lpoints_normalized = list()\n",
    "        for k in range(K):\n",
    "            point = np.zeros(D)\n",
    "            for d in range(D):\n",
    "                point[d] = (lpoints[k][d] - minpoint[d])/(maxpoint[d] - minpoint[d])\n",
    "            lpoints_normalized.append(point)\n",
    "\n",
    "        centroid = np.zeros(D)\n",
    "        for k in range(K):\n",
    "            for d in range(D):\n",
    "                centroid[d] += lpoints_normalized[k][d]/K\n",
    "\n",
    "        list_dist_centroid = list()\n",
    "        for k in range(K):\n",
    "            list_dist_centroid.append(np.linalg.norm(lpoints_normalized[k]-centroid))\n",
    "\n",
    "        order = np.argsort(list_dist_centroid)\n",
    "        for c in range(cut):\n",
    "            list_idx_cut.append(order[len(order)-c-1])\n",
    "    return list_idx_cut"
   ]
  },
  {
   "cell_type": "code",
   "execution_count": 7,
   "id": "7780d5a9-e8f2-4d30-8b5a-e999e70a8775",
   "metadata": {},
   "outputs": [],
   "source": [
    "def create_dataframe(data_to_df, list_sensors, list_metrics):\n",
    "    pass"
   ]
  },
  {
   "cell_type": "code",
   "execution_count": 8,
   "id": "46c0f85f-a1c9-4ce8-af7a-5b87be72b594",
   "metadata": {},
   "outputs": [],
   "source": [
    "list_sensors = ['NGA', 'NGV']\n",
    "list_metrics = ['Median', 'STD', 'PPV']\n",
    "window_size = 100\n",
    "num_window = 57\n",
    "cut_factor = 0.1"
   ]
  },
  {
   "cell_type": "code",
   "execution_count": 9,
   "id": "9983f7e3-cc99-4dae-8171-742d39ac3c03",
   "metadata": {},
   "outputs": [],
   "source": [
    "F = len(list_sensors)\n",
    "J = len(list_metrics)\n",
    "K = num_window\n",
    "N = window_size\n",
    "data_full = np.zeros((K,F,J))"
   ]
  },
  {
   "cell_type": "code",
   "execution_count": 10,
   "id": "0f63ef71-1e99-4900-bf35-dede3241f77e",
   "metadata": {},
   "outputs": [],
   "source": [
    "for k in range(K):\n",
    "    for i in range(F):\n",
    "        data_sensor = df_train[list_sensors[i]].values\n",
    "        serie = data_sensor[k*N:(k+1)*N]\n",
    "        for j in range(J):\n",
    "            data_full[k][i][j] = calc_metric_stats(serie, list_metrics[j])"
   ]
  },
  {
   "cell_type": "code",
   "execution_count": 11,
   "id": "5253799f-27c4-437d-850c-d3ff0d129404",
   "metadata": {},
   "outputs": [
    {
     "data": {
      "text/plain": [
       "(57, 2, 3)"
      ]
     },
     "execution_count": 11,
     "metadata": {},
     "output_type": "execute_result"
    }
   ],
   "source": [
    "data_full.shape"
   ]
  },
  {
   "cell_type": "code",
   "execution_count": 12,
   "id": "5bc25f4a-c129-4cb6-824d-a77c54bea0e2",
   "metadata": {},
   "outputs": [],
   "source": [
    "list_idx_cut = Algorithm2(F, J, K, cut_factor, data_full)"
   ]
  },
  {
   "cell_type": "code",
   "execution_count": 13,
   "id": "ca90c6f9-2882-470a-b522-37bf130bd83f",
   "metadata": {},
   "outputs": [
    {
     "data": {
      "text/plain": [
       "[31, 22, 28, 23, 21, 30]"
      ]
     },
     "execution_count": 13,
     "metadata": {},
     "output_type": "execute_result"
    }
   ],
   "source": [
    "list_idx_cut"
   ]
  },
  {
   "cell_type": "code",
   "execution_count": 14,
   "id": "c1f17c33-aa64-4121-8abc-8525f401c33b",
   "metadata": {},
   "outputs": [
    {
     "name": "stdout",
     "output_type": "stream",
     "text": [
      "5704\n"
     ]
    }
   ],
   "source": [
    "print(len(df_train.NGA.values))"
   ]
  },
  {
   "cell_type": "code",
   "execution_count": 15,
   "id": "c5e5698b-05a7-4f22-b8ce-05f17da5aa7a",
   "metadata": {},
   "outputs": [
    {
     "data": {
      "image/png": "[encoded data removed]",
      "text/plain": [
       "<Figure size 2000x500 with 1 Axes>"
      ]
     },
     "metadata": {},
     "output_type": "display_data"
    }
   ],
   "source": [
    "data_length = len(df_train.NGA.values)\n",
    "fig, ax = plt.subplots(figsize=(20, 5))\n",
    "plt.plot(df_train.NGA.values)\n",
    "for idx in list_idx_cut:\n",
    "    start = idx * 100\n",
    "    end = (idx + 1) * 100\n",
    "    if start < data_length:\n",
    "        end = min(end, data_length)  # Ensure we don't go out of the data range\n",
    "        ax.axvspan(start, end, color='red', alpha=0.3)  # Customize the color and transparency as needed"
   ]
  },
  {
   "cell_type": "code",
   "execution_count": 16,
   "id": "4e73123a-f8e0-4f0b-a79c-d6b32659d320",
   "metadata": {},
   "outputs": [],
   "source": [
    "data_range = list()\n",
    "for i in range(F):\n",
    "    lmtr_min = list()\n",
    "    lmtr_max = list()\n",
    "    for j in range(J):\n",
    "        list_metric_per_window = list()\n",
    "        for k in range(K):\n",
    "            if(k not in list_idx_cut):\n",
    "                list_metric_per_window.append(data_full[k][i][j])\n",
    "        lmtr_min.append(np.min(list_metric_per_window))\n",
    "        lmtr_max.append(np.max(list_metric_per_window))\n",
    "    data_range.append((lmtr_min, lmtr_max))"
   ]
  },
  {
   "cell_type": "code",
   "execution_count": 26,
   "id": "c533b097-14ea-4ee0-ae42-77bcdfd1c8d2",
   "metadata": {},
   "outputs": [
    {
     "name": "stdout",
     "output_type": "stream",
     "text": [
      "2\n",
      "[([0.442005, 0.015903493949129544, 0.07001000000000002], [4.684255, 0.5368924554034634, 2.54419]), ([4.230075, 0.09460562439284462, 0.5011400000000004], [12.867515000000001, 1.4965098452804477, 5.52203])]\n"
     ]
    }
   ],
   "source": [
    "print(len(data_range))\n",
    "print(data_range)"
   ]
  },
  {
   "cell_type": "code",
   "execution_count": 27,
   "id": "92364896-b3bf-4ada-8d67-17eb7d738706",
   "metadata": {},
   "outputs": [],
   "source": [
    "data_to_df = list()\n",
    "for j in range(J):\n",
    "    list_min_values_per_sensor = list()\n",
    "    for i in range(F):\n",
    "        list_min_values_per_sensor.append(data_range[i][0][j])\n",
    "    data_to_df.append(list_min_values_per_sensor)\n",
    "    list_max_values_per_sensor = list()\n",
    "    for i in range(F):\n",
    "        list_max_values_per_sensor.append(data_range[i][1][j])\n",
    "    data_to_df.append(list_max_values_per_sensor)\n",
    "df_model = create_dataframe(data_to_df, list_sensors, list_metrics)"
   ]
  },
  {
   "cell_type": "code",
   "execution_count": null,
   "id": "5851896f-e2b5-475e-9f51-5f1135ce1ea0",
   "metadata": {},
   "outputs": [],
   "source": [
    "def test(list_sensors, list_metrics, current_window, df_model):\n",
    "    F = len(list_sensors)\n",
    "    J = len(list_metrics)\n",
    "    report = dict()\n",
    "    sum_error_rel = 0\n",
    "    for name_sensor in list_sensors:\n",
    "        list_sensors_affecteds = list()\n",
    "        serie = current_window[name_sensor].values\n",
    "        for j in range(J):\n",
    "            metric = calc_metric_stats(serie, list_metrics[j])\n",
    "            v_min =  df_model.loc[name_sensor].loc[list_metrics[j]['min']\n",
    "            v_max =  df_model.loc[name_sensor].loc[list_metrics[j]['max']\n",
    "            if metric < v_min:\n",
    "                error_rel_normalized = np.abs((metric-v_min)/(v_max-v_min))\n",
    "                sum_error_rel += error_rel_normalized\n",
    "                #list_sensors_affecteds.append()\n",
    "                report['count_metrics'] = \n",
    "            if metric < v_min:\n",
    "                error_rel_normalized = np.abs((metric-v_min)/(v_max-v_min)-1)\n",
    "                sum_error_rel += error_rel_normalized\n",
    "                #list_sensors_affecteds.append()\n",
    "    if report.c"
   ]
  }
 ],
 "metadata": {
  "kernelspec": {
   "display_name": "Python 3 (ipykernel)",
   "language": "python",
   "name": "python3"
  },
  "language_info": {
   "codemirror_mode": {
    "name": "ipython",
    "version": 3
   },
   "file_extension": ".py",
   "mimetype": "text/x-python",
   "name": "python",
   "nbconvert_exporter": "python",
   "pygments_lexer": "ipython3",
   "version": "3.11.8"
  }
 },
 "nbformat": 4,
 "nbformat_minor": 5
}
